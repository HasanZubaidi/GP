{
 "cells": [
  {
   "cell_type": "code",
   "execution_count": 1,
   "id": "94062a73",
   "metadata": {},
   "outputs": [],
   "source": [
    "import requests\n",
    "from bs4 import BeautifulSoup\n",
    "import os"
   ]
  },
  {
   "cell_type": "code",
   "execution_count": 12,
   "id": "8dd1608a",
   "metadata": {},
   "outputs": [],
   "source": [
    "def img_down(url, folder):\n",
    "    # Create folder if it doesn't exist\n",
    "    os.makedirs(folder, exist_ok=True)\n",
    "    \n",
    "    # Fetch the page content\n",
    "    response = requests.get(url)\n",
    "    if response.status_code == 200:\n",
    "        soup = BeautifulSoup(response.content, 'html.parser')\n",
    "        \n",
    "        # Find all image elements\n",
    "        images = soup.find_all('img')\n",
    "        \n",
    "        # Download each image\n",
    "        for idx, image in enumerate(images):\n",
    "            link = image['src']\n",
    "            if link.startswith('http'):  # Check if the link is a valid URL\n",
    "                image_name = f\"image_{idx}.jpg\"  # Assign a generic name based on index\n",
    "                with open(os.path.join(folder, image_name), 'wb') as f:\n",
    "                    im = requests.get(link)\n",
    "                    f.write(im.content)\n",
    "                    print('Writing:', image_name)\n",
    "            else:\n",
    "                print('Skipping non-URL link:', link)\n",
    "    else:\n",
    "        print('Failed to fetch the page')\n",
    "\n"
   ]
  },
  {
   "cell_type": "code",
   "execution_count": 14,
   "id": "06007736",
   "metadata": {},
   "outputs": [
    {
     "name": "stdout",
     "output_type": "stream",
     "text": [
      "Skipping non-URL link: /images/branding/searchlogo/1x/googlelogo_desk_heirloom_color_150x55dp.gif\n",
      "Writing: image_1.jpg\n",
      "Writing: image_2.jpg\n",
      "Writing: image_3.jpg\n",
      "Writing: image_4.jpg\n",
      "Writing: image_5.jpg\n",
      "Writing: image_6.jpg\n",
      "Writing: image_7.jpg\n",
      "Writing: image_8.jpg\n",
      "Writing: image_9.jpg\n",
      "Writing: image_10.jpg\n",
      "Writing: image_11.jpg\n",
      "Writing: image_12.jpg\n",
      "Writing: image_13.jpg\n",
      "Writing: image_14.jpg\n",
      "Writing: image_15.jpg\n",
      "Writing: image_16.jpg\n",
      "Writing: image_17.jpg\n",
      "Writing: image_18.jpg\n",
      "Writing: image_19.jpg\n",
      "Writing: image_20.jpg\n"
     ]
    }
   ],
   "source": [
    "url = \"https://www.google.com/search?client=opera-gx&hs=PcN&sca_esv=e57395570566e342&sca_upv=1&sxsrf=ACQVn09KZCxmG7M3ICHA3qDWiaOKeg0d1Q:1712063162167&q=chiggers+bites+pictures&uds=AMwkrPvoeZl6n5oLV_s3-zvUhT6cKGyfznNfBe7Um69n4WesS4OZqFKkV4Y_gab0RYnmqUUo8SJSTUQZ0YHBPf6bnouY5TDi39BKGU7ApmQPYnAdVr6-rhVummAFHn_VNjVV2ztm-vloamD3co3c9GY6o--RjRheM8_M3jb5HcjVP0AsohaTM0whpSarXJpwmPYI5HCN9j3uR-p2oT0iFYxN-rn8qyeJoMtX7Sp_2S-XW5k0bzpwjLGOUwlbdz48UTk18DV1CgD2UO-5AesBxYAnivrZPiOPqrlXzICAQtGUs1y_vjQ4Q7smc5pqwfA3PNYT7TWuzMNH&udm=2&prmd=ivsnmbz&sa=X&ved=2ahUKEwjllPSkzKOFAxU91wIHHdAdBXAQtKgLegQICxAB&biw=1879&bih=970&dpr=1#vhid=UunZZGuyi91q4M&vssid=mosaic\"\n",
    "img_down(url,\"test\")"
   ]
  },
  {
   "cell_type": "code",
   "execution_count": null,
   "id": "f09e1bad",
   "metadata": {},
   "outputs": [],
   "source": []
  }
 ],
 "metadata": {
  "kernelspec": {
   "display_name": "Python 3 (ipykernel)",
   "language": "python",
   "name": "python3"
  },
  "language_info": {
   "codemirror_mode": {
    "name": "ipython",
    "version": 3
   },
   "file_extension": ".py",
   "mimetype": "text/x-python",
   "name": "python",
   "nbconvert_exporter": "python",
   "pygments_lexer": "ipython3",
   "version": "3.9.13"
  }
 },
 "nbformat": 4,
 "nbformat_minor": 5
}
